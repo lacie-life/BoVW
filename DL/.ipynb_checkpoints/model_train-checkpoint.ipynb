{
 "cells": [
  {
   "cell_type": "code",
   "execution_count": 15,
   "metadata": {},
   "outputs": [
    {
     "name": "stderr",
     "output_type": "stream",
     "text": [
      "Setting up a new session...\n"
     ]
    }
   ],
   "source": [
    "import torch\n",
    "import torchvision\n",
    "import torch.nn as nn\n",
    "import torch.nn.functional as F\n",
    "from torchvision import datasets, models, transforms\n",
    "from dataset_train import Dataset\n",
    "from torch.utils.data import DataLoader\n",
    "\n",
    "import os\n",
    "import cv2\n",
    "import numpy as np\n",
    "\n",
    "from time import time\n",
    "from visdom import Visdom\n",
    "import copy\n",
    "\n",
    "# Define important global variables \n",
    "# Change 'pretrained' variable to decide to get the pretrained weight or not\n",
    "# Change 'feature_extract' variable to decide to keep all layers to update or freeze a part of the model\n",
    "num_classes = 10\n",
    "batch_size = 256\n",
    "num_epochs = 15\n",
    "feature_extract = True\n",
    "pretrained = True\n",
    "num_epochs = 1000\n",
    "input_size = 224\n",
    "\n",
    "# Use Visdom to visualise the training progress\n",
    "viz = Visdom()\n",
    "step_list = [0]\n",
    "win = viz.line(X=np.array([0]), Y=np.array([1.0]), opts=dict(title='loss'))\n"
   ]
  },
  {
   "cell_type": "code",
   "execution_count": 16,
   "metadata": {},
   "outputs": [],
   "source": [
    "# This function is used to tell the optimizer not to update params in the freeze layer \n",
    "# Only use in freeze mode\n",
    "def set_parameter_requires_grad(model, feature_extracting):\n",
    "    if feature_extracting:\n",
    "        for param in model.parameters():\n",
    "            param.requires_grad = False"
   ]
  },
  {
   "cell_type": "code",
   "execution_count": 17,
   "metadata": {},
   "outputs": [],
   "source": [
    "def train_model(model, dataloaders, criterion, optimizer, num_epochs):\n",
    "    since = time()\n",
    "\n",
    "    best_model_wts = copy.deepcopy(model.state_dict())\n",
    "    best_acc = 1000.0\n",
    "\n",
    "    count = 0\n",
    "    for epoch in range(num_epochs):\n",
    "        print('Epoch {}/{}'.format(epoch, num_epochs - 1))\n",
    "        print('-' * 10)\n",
    "\n",
    "        model.train()  # Set model to training mode\n",
    "        \n",
    "        running_loss = 0.0\n",
    "        running_corrects = 0\n",
    "\n",
    "        count += 1\n",
    "        # Iterate over data.\n",
    "        for step, (inputs, labels) in enumerate(dataloaders):\n",
    "            inputs = inputs.cuda()\n",
    "            labels = labels.cuda()\n",
    "            \n",
    "\n",
    "            # zero the parameter gradients\n",
    "            optimizer.zero_grad()\n",
    "\n",
    "            # forward pass and calculate loss\n",
    "            outputs = model(inputs)\n",
    "            loss = criterion(outputs, labels)\n",
    "            _, preds = torch.max(outputs, 1)\n",
    "\n",
    "            # Back prop and update params\n",
    "            loss.backward()\n",
    "            optimizer.step()\n",
    "\n",
    "            # statistics\n",
    "            running_loss += loss.item() * inputs.size(0)\n",
    "            running_corrects += torch.sum(preds == labels)\n",
    "\n",
    "            if step % 1 == 0:\n",
    "                step_list.append(step_list[-1] + 1)\n",
    "                viz.line(X=np.array([step_list[-1]]), Y=np.array([loss.item()]), win=win, update='append')\n",
    "                \n",
    "            if step % 100 == 0:    \n",
    "                print('     step:{}, loss:{:.3f}, time:{:.3f} min'\n",
    "                    .format(step, loss.item(), (time() - since) / 60))\n",
    "\n",
    "        # deep copy the model\n",
    "        if loss.item() < best_acc:\n",
    "            count = 0\n",
    "            best_acc = loss.item()\n",
    "            best_model_wts = copy.deepcopy(model.state_dict())\n",
    "            torch.save(model.state_dict(), './model/net{}-{:.3f}.pth'.format(epoch, loss))\n",
    "\n",
    "        if count == 10:\n",
    "            break\n",
    "        print()\n",
    "\n",
    "    time_elapsed = time() - since\n",
    "    print('Training complete in {:.0f}m {:.0f}s'.format(time_elapsed // 60, time_elapsed % 60))\n",
    "    print('Best val Acc: {:4f}'.format(best_acc))\n",
    "\n",
    "    # load best model weights\n",
    "    model.load_state_dict(best_model_wts)\n",
    "    return model"
   ]
  },
  {
   "cell_type": "code",
   "execution_count": 21,
   "metadata": {},
   "outputs": [
    {
     "ename": "TypeError",
     "evalue": "__init__() got an unexpected keyword argument 'batch_size'",
     "output_type": "error",
     "traceback": [
      "\u001b[0;31m---------------------------------------------------------------------------\u001b[0m",
      "\u001b[0;31mTypeError\u001b[0m                                 Traceback (most recent call last)",
      "\u001b[0;32m<ipython-input-21-8db1ef8b7a6f>\u001b[0m in \u001b[0;36m<module>\u001b[0;34m\u001b[0m\n\u001b[1;32m      4\u001b[0m \u001b[0;31m# Load data\u001b[0m\u001b[0;34m\u001b[0m\u001b[0;34m\u001b[0m\u001b[0;34m\u001b[0m\u001b[0m\n\u001b[1;32m      5\u001b[0m \u001b[0mtrain_ds\u001b[0m \u001b[0;34m=\u001b[0m \u001b[0mDataset\u001b[0m\u001b[0;34m(\u001b[0m\u001b[0mBASE_DIR\u001b[0m\u001b[0;34m)\u001b[0m\u001b[0;34m\u001b[0m\u001b[0;34m\u001b[0m\u001b[0m\n\u001b[0;32m----> 6\u001b[0;31m \u001b[0mtrain_dl\u001b[0m \u001b[0;34m=\u001b[0m \u001b[0mDataset\u001b[0m\u001b[0;34m(\u001b[0m\u001b[0mtrain_ds\u001b[0m\u001b[0;34m,\u001b[0m \u001b[0mbatch_size\u001b[0m\u001b[0;34m=\u001b[0m\u001b[0mbatch_size\u001b[0m\u001b[0;34m,\u001b[0m \u001b[0mshuffle\u001b[0m\u001b[0;34m=\u001b[0m\u001b[0;32mTrue\u001b[0m\u001b[0;34m)\u001b[0m\u001b[0;34m\u001b[0m\u001b[0;34m\u001b[0m\u001b[0m\n\u001b[0m\u001b[1;32m      7\u001b[0m \u001b[0;34m\u001b[0m\u001b[0m\n\u001b[1;32m      8\u001b[0m \u001b[0;31m# Init model and customize from the pretrained version in Pytorch\u001b[0m\u001b[0;34m\u001b[0m\u001b[0;34m\u001b[0m\u001b[0;34m\u001b[0m\u001b[0m\n",
      "\u001b[0;31mTypeError\u001b[0m: __init__() got an unexpected keyword argument 'batch_size'"
     ]
    }
   ],
   "source": [
    "BASE_DIR = '/home/jun/Github/BoVW/dataset/'\n",
    "impath = os.listdir(BASE_DIR + 'train')\n",
    "\n",
    "# Load data\n",
    "train_ds = Dataset(BASE_DIR)\n",
    "train_dl = DataLoader(train_ds, batch_size=batch_size, shuffle=True)\n",
    "\n",
    "# Init model and customize from the pretrained version in Pytorch\n",
    "model = models.vgg11_bn(pretrained=pretrained).cuda()\n",
    "set_parameter_requires_grad(model, feature_extract)\n",
    "num_ftrs = model.classifier[6].in_features\n",
    "model.classifier[6] = nn.Linear(num_ftrs,num_classes)\n",
    "model =  torch.nn.DataParallel(model).cuda()\n",
    "\n",
    "loss_fn = torch.nn.CrossEntropyLoss()\n",
    "\n",
    "# Choose params to update \n",
    "params_to_update = model.parameters()\n",
    "if feature_extract:\n",
    "    params_to_update = []\n",
    "    for name,param in model.named_parameters():\n",
    "        if param.requires_grad == True:\n",
    "            params_to_update.append(param)\n",
    "            \n",
    "optimizer = torch.optim.SGD(params_to_update, lr=0.001, momentum=0.9)"
   ]
  },
  {
   "cell_type": "code",
   "execution_count": 19,
   "metadata": {},
   "outputs": [
    {
     "name": "stdout",
     "output_type": "stream",
     "text": [
      "Epoch 0/999\n",
      "----------\n"
     ]
    },
    {
     "ename": "ValueError",
     "evalue": "invalid literal for int() with base 10: 'face'",
     "output_type": "error",
     "traceback": [
      "\u001b[0;31m---------------------------------------------------------------------------\u001b[0m",
      "\u001b[0;31mValueError\u001b[0m                                Traceback (most recent call last)",
      "\u001b[0;32m<ipython-input-19-aa5688ec6c80>\u001b[0m in \u001b[0;36m<module>\u001b[0;34m\u001b[0m\n\u001b[0;32m----> 1\u001b[0;31m \u001b[0mmodel_ft\u001b[0m \u001b[0;34m=\u001b[0m \u001b[0mtrain_model\u001b[0m\u001b[0;34m(\u001b[0m\u001b[0mmodel\u001b[0m\u001b[0;34m,\u001b[0m \u001b[0mtrain_dl\u001b[0m\u001b[0;34m,\u001b[0m \u001b[0mloss_fn\u001b[0m\u001b[0;34m,\u001b[0m \u001b[0moptimizer\u001b[0m\u001b[0;34m,\u001b[0m \u001b[0mnum_epochs\u001b[0m\u001b[0;34m=\u001b[0m\u001b[0mnum_epochs\u001b[0m\u001b[0;34m)\u001b[0m\u001b[0;34m\u001b[0m\u001b[0;34m\u001b[0m\u001b[0m\n\u001b[0m",
      "\u001b[0;32m<ipython-input-17-72cdc0d81941>\u001b[0m in \u001b[0;36mtrain_model\u001b[0;34m(model, dataloaders, criterion, optimizer, num_epochs)\u001b[0m\n\u001b[1;32m     21\u001b[0m \u001b[0;31m#             labels = labels.cuda()\u001b[0m\u001b[0;34m\u001b[0m\u001b[0;34m\u001b[0m\u001b[0;34m\u001b[0m\u001b[0m\n\u001b[1;32m     22\u001b[0m \u001b[0;34m\u001b[0m\u001b[0m\n\u001b[0;32m---> 23\u001b[0;31m             \u001b[0mlabels\u001b[0m \u001b[0;34m=\u001b[0m \u001b[0mnp\u001b[0m\u001b[0;34m.\u001b[0m\u001b[0marray\u001b[0m\u001b[0;34m(\u001b[0m\u001b[0mlabels\u001b[0m\u001b[0;34m,\u001b[0m \u001b[0mint\u001b[0m\u001b[0;34m)\u001b[0m\u001b[0;34m\u001b[0m\u001b[0;34m\u001b[0m\u001b[0m\n\u001b[0m\u001b[1;32m     24\u001b[0m             \u001b[0mlabels\u001b[0m \u001b[0;34m=\u001b[0m \u001b[0mtorch\u001b[0m\u001b[0;34m.\u001b[0m\u001b[0mTensor\u001b[0m\u001b[0;34m(\u001b[0m\u001b[0mlabels\u001b[0m\u001b[0;34m)\u001b[0m\u001b[0;34m\u001b[0m\u001b[0;34m\u001b[0m\u001b[0m\n\u001b[1;32m     25\u001b[0m             \u001b[0minputs\u001b[0m \u001b[0;34m=\u001b[0m \u001b[0mtorch\u001b[0m\u001b[0;34m.\u001b[0m\u001b[0mTensor\u001b[0m\u001b[0;34m(\u001b[0m\u001b[0minputs\u001b[0m\u001b[0;34m)\u001b[0m\u001b[0;34m\u001b[0m\u001b[0;34m\u001b[0m\u001b[0m\n",
      "\u001b[0;31mValueError\u001b[0m: invalid literal for int() with base 10: 'face'"
     ]
    }
   ],
   "source": [
    "model_ft = train_model(model, train_dl, loss_fn, optimizer, num_epochs=num_epochs)\n"
   ]
  },
  {
   "cell_type": "code",
   "execution_count": 6,
   "metadata": {},
   "outputs": [
    {
     "name": "stderr",
     "output_type": "stream",
     "text": [
      "Connection to remote host was lost.\n",
      "on_close() takes 1 positional argument but 3 were given\n",
      "[Errno 111] Connection refused\n",
      "on_close() takes 1 positional argument but 3 were given\n",
      "[Errno 111] Connection refused\n",
      "on_close() takes 1 positional argument but 3 were given\n",
      "[Errno 111] Connection refused\n",
      "on_close() takes 1 positional argument but 3 were given\n",
      "[Errno 111] Connection refused\n",
      "on_close() takes 1 positional argument but 3 were given\n",
      "[Errno 111] Connection refused\n",
      "on_close() takes 1 positional argument but 3 were given\n",
      "[Errno 111] Connection refused\n",
      "on_close() takes 1 positional argument but 3 were given\n",
      "[Errno 111] Connection refused\n",
      "on_close() takes 1 positional argument but 3 were given\n",
      "[Errno 111] Connection refused\n",
      "on_close() takes 1 positional argument but 3 were given\n",
      "[Errno 111] Connection refused\n",
      "on_close() takes 1 positional argument but 3 were given\n",
      "[Errno 111] Connection refused\n",
      "on_close() takes 1 positional argument but 3 were given\n",
      "[Errno 111] Connection refused\n",
      "on_close() takes 1 positional argument but 3 were given\n",
      "[Errno 111] Connection refused\n",
      "on_close() takes 1 positional argument but 3 were given\n",
      "[Errno 111] Connection refused\n",
      "on_close() takes 1 positional argument but 3 were given\n",
      "[Errno 111] Connection refused\n",
      "on_close() takes 1 positional argument but 3 were given\n",
      "[Errno 111] Connection refused\n",
      "on_close() takes 1 positional argument but 3 were given\n",
      "[Errno 111] Connection refused\n",
      "on_close() takes 1 positional argument but 3 were given\n",
      "[Errno 111] Connection refused\n",
      "on_close() takes 1 positional argument but 3 were given\n",
      "[Errno 111] Connection refused\n",
      "on_close() takes 1 positional argument but 3 were given\n",
      "[Errno 111] Connection refused\n",
      "on_close() takes 1 positional argument but 3 were given\n",
      "[Errno 111] Connection refused\n",
      "on_close() takes 1 positional argument but 3 were given\n",
      "[Errno 111] Connection refused\n",
      "on_close() takes 1 positional argument but 3 were given\n",
      "[Errno 111] Connection refused\n",
      "on_close() takes 1 positional argument but 3 were given\n",
      "[Errno 111] Connection refused\n",
      "on_close() takes 1 positional argument but 3 were given\n",
      "[Errno 111] Connection refused\n",
      "on_close() takes 1 positional argument but 3 were given\n",
      "[Errno 111] Connection refused\n",
      "on_close() takes 1 positional argument but 3 were given\n",
      "[Errno 111] Connection refused\n",
      "on_close() takes 1 positional argument but 3 were given\n",
      "[Errno 111] Connection refused\n",
      "on_close() takes 1 positional argument but 3 were given\n",
      "[Errno 111] Connection refused\n",
      "on_close() takes 1 positional argument but 3 were given\n",
      "[Errno 111] Connection refused\n",
      "on_close() takes 1 positional argument but 3 were given\n",
      "[Errno 111] Connection refused\n",
      "on_close() takes 1 positional argument but 3 were given\n",
      "[Errno 111] Connection refused\n",
      "on_close() takes 1 positional argument but 3 were given\n",
      "[Errno 111] Connection refused\n",
      "on_close() takes 1 positional argument but 3 were given\n",
      "[Errno 111] Connection refused\n",
      "on_close() takes 1 positional argument but 3 were given\n",
      "[Errno 111] Connection refused\n",
      "on_close() takes 1 positional argument but 3 were given\n",
      "[Errno 111] Connection refused\n",
      "on_close() takes 1 positional argument but 3 were given\n",
      "[Errno 111] Connection refused\n",
      "on_close() takes 1 positional argument but 3 were given\n"
     ]
    }
   ],
   "source": [
    "\n",
    "# test_img = cv2.imread(BASE_DIR + 'train/0/1.jpg')\n",
    "# test_img = cv2.resize(test_img, (input_size,input_size), interpolation=cv2.INTER_CUBIC)\n",
    "# test_img = np.moveaxis(test_img,2,0)\n",
    "# test_img = torch.FloatTensor(test_img).cuda().unsqueeze(0)\n",
    "# print(test_img.shape)\n",
    "\n",
    "# outputs = model(test_img)\n",
    "# print(outputs.shape)\n",
    "# print(outputs)"
   ]
  }
 ],
 "metadata": {
  "interpreter": {
   "hash": "3c0765f9bcf74431e05650db67b3f046ba8e213c3b5b9c20db33f6d2ed90b485"
  },
  "kernelspec": {
   "display_name": "Python 3",
   "language": "python",
   "name": "python3"
  },
  "language_info": {
   "codemirror_mode": {
    "name": "ipython",
    "version": 3
   },
   "file_extension": ".py",
   "mimetype": "text/x-python",
   "name": "python",
   "nbconvert_exporter": "python",
   "pygments_lexer": "ipython3",
   "version": "3.6.13"
  }
 },
 "nbformat": 4,
 "nbformat_minor": 2
}
